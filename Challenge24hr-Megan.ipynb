{
 "cells": [
  {
   "cell_type": "code",
   "execution_count": 75,
   "id": "f7556321",
   "metadata": {},
   "outputs": [
    {
     "name": "stdout",
     "output_type": "stream",
     "text": [
      "    ISO3 Code    Year         Type  Delay (days)             Last Update\n",
      "0         DNK  2018.0   Timeliness          59.0 2023-10-07 14:23:38.662\n",
      "1         DEU  2015.0   Timeliness          35.0 2022-12-13 14:23:38.662\n",
      "2         BRA  2017.0   Timeliness           3.0 2022-08-02 14:23:38.662\n",
      "3         DEU  2018.0  Periodicity           4.0 2023-10-11 14:23:38.662\n",
      "4         DEU  2017.0  Periodicity          45.0 2024-05-03 14:23:38.662\n",
      "..        ...     ...          ...           ...                     ...\n",
      "495       IND  2021.0   Timeliness           6.0 2023-01-07 14:23:38.665\n",
      "496       EGY  2016.0  Periodicity           3.0 2023-04-15 14:23:38.665\n",
      "497       MEX  2017.0   Timeliness          16.0 2022-11-14 14:23:38.665\n",
      "498       JPN  2019.0   Timeliness          32.0 2022-09-14 14:23:38.665\n",
      "499       BRA  2015.0  Periodicity          56.0 2023-01-29 14:23:38.665\n",
      "\n",
      "[500 rows x 5 columns]\n"
     ]
    }
   ],
   "source": [
    "import pandas as pd\n",
    "file_path = 'Add Path'\n",
    "data = pd.read_excel(file_path)\n",
    "print(data)"
   ]
  },
  {
   "cell_type": "code",
   "execution_count": 73,
   "id": "5ef3fa43",
   "metadata": {},
   "outputs": [
    {
     "name": "stdout",
     "output_type": "stream",
     "text": [
      "  ISO3 Code    Year        Type  Delay (days)             Last Update\n",
      "0       DNK  2018.0  Timeliness          59.0 2023-10-07 14:23:38.662\n",
      "1       DEU  2015.0  Timeliness          35.0 2022-12-13 14:23:38.662\n",
      "2       BRA  2017.0  Timeliness           3.0 2022-08-02 14:23:38.662\n",
      "5       IND  2016.0  Timeliness          39.0 2022-11-09 14:23:38.662\n",
      "7       DNK  2023.0  Timeliness          52.0 2024-07-28 14:23:38.662\n"
     ]
    }
   ],
   "source": [
    "# 1) Filter the Data: Only include rows where Type is Timeliness. Exclude any records where Delay (days) is negative or missing\n",
    "\n",
    "#Filter the data for Type == 'Timeless' and Delay (days) >=0, excluding missing values \n",
    "filtered_data= data[(data['Type']== 'Timeliness') & (data['Delay (days)'] >=0)]\n",
    "\n",
    "# Drop rows with missing values in 'Delay (days)'\n",
    "filtered_data= filtered_data.dropna(subset=['Delay (days)'])\n",
    "\n",
    "#Print\n",
    "print(filtered_data.head())\n"
   ]
  },
  {
   "cell_type": "code",
   "execution_count": 79,
   "id": "3d9fd0b4",
   "metadata": {},
   "outputs": [
    {
     "name": "stdout",
     "output_type": "stream",
     "text": [
      "  ISO3 Code  Delay (days)\n",
      "8       JPN     39.606250\n",
      "5       EGY     37.518519\n",
      "7       IND     33.202381\n",
      "0       ARG     32.481481\n",
      "9       MEX     32.404762\n",
      "   ISO3 Code    Year  Delay (days)\n",
      "0        ARG  2015.0     20.000000\n",
      "1        ARG  2016.0     55.000000\n",
      "2        ARG  2017.0     33.000000\n",
      "3        ARG  2018.0     22.500000\n",
      "4        ARG  2019.0     10.000000\n",
      "..       ...     ...           ...\n",
      "74       MEX  2017.0     13.333333\n",
      "75       MEX  2018.0     39.000000\n",
      "76       MEX  2019.0     23.000000\n",
      "77       MEX  2021.0     24.500000\n",
      "78       MEX  2022.0     54.000000\n",
      "\n",
      "[79 rows x 3 columns]\n"
     ]
    }
   ],
   "source": [
    "# 2) Compute Aggregates: Calculate the average delay per year for each country.\n",
    "#Identify the top 5 countries with the highest average delay across all years.\n",
    "\n",
    "\n",
    "# Group by 'ISO3 Code' and 'Year' and calculate the average 'Delay (days)'\n",
    "avg_delay_per_year= filtered_data.groupby(['ISO3 Code','Year'])['Delay (days)'].mean().reset_index()\n",
    "\n",
    "# calculate the overall average delay for each country- all years\n",
    "average_delay_per_country= avg_delay_per_year.groupby('ISO3 Code')['Delay (days)'].mean().reset_index()\n",
    "\n",
    "# Sort by 'Delay (days)' in descending\n",
    "top_5_countries = average_delay_per_country.sort_values(by='Delay (days)', ascending=False).head(5)\n",
    "\n",
    "# Display the top 5 countries with the highest average delay\n",
    "print(top_5_countries)\n",
    "print(avg_delay_per_year)"
   ]
  },
  {
   "cell_type": "code",
   "execution_count": 131,
   "id": "cdd02088",
   "metadata": {},
   "outputs": [],
   "source": [
    "# 3)Regional Insights\n",
    "\n",
    "#Compute the average delay by region for each year.\n",
    "#Identify which region has shown the most improvement in timeliness over the years.\n",
    "\n",
    "region_mapping = {\n",
    "    'ARG': 'Latin America & Caribbean',\n",
    "    'BRA': 'Latin America & Caribbean',\n",
    "    'CAN': 'North America',\n",
    "    'DEU': 'Europe',\n",
    "    'DNK': 'Europe',\n",
    "    'EGY': 'Middle East & North Africa',\n",
    "    'FRA': 'Europe',\n",
    "    'IND': 'South Asia',\n",
    "    'JPN': 'East Asia & Pacific',\n",
    "    'MEX': 'Latin America & Caribbean'\n",
    "}\n",
    "\n",
    "# Apply region mapping to the filtered data\n",
    "filtered_data['Region'] = filtered_data['ISO3 Code'].map(region_mapping)"
   ]
  },
  {
   "cell_type": "code",
   "execution_count": 129,
   "id": "65281b9e",
   "metadata": {},
   "outputs": [
    {
     "name": "stdout",
     "output_type": "stream",
     "text": [
      "                        Region    Year  Delay (days)\n",
      "0          East Asia & Pacific  2015.0     28.000000\n",
      "1          East Asia & Pacific  2016.0     33.666667\n",
      "2          East Asia & Pacific  2017.0     45.000000\n",
      "3          East Asia & Pacific  2018.0     59.000000\n",
      "4          East Asia & Pacific  2019.0     38.333333\n",
      "5          East Asia & Pacific  2020.0     42.250000\n",
      "6          East Asia & Pacific  2022.0     45.000000\n",
      "7          East Asia & Pacific  2023.0     25.600000\n",
      "8                       Europe  2015.0     28.727273\n",
      "9                       Europe  2016.0     32.500000\n",
      "10                      Europe  2017.0     23.800000\n",
      "11                      Europe  2018.0     43.666667\n",
      "12                      Europe  2019.0     24.000000\n",
      "13                      Europe  2020.0     36.000000\n",
      "14                      Europe  2021.0     41.500000\n",
      "15                      Europe  2022.0     27.833333\n",
      "16                      Europe  2023.0     42.375000\n",
      "17   Latin America & Caribbean  2015.0     32.428571\n",
      "18   Latin America & Caribbean  2016.0     37.000000\n",
      "19   Latin America & Caribbean  2017.0     18.875000\n",
      "20   Latin America & Caribbean  2018.0     32.833333\n",
      "21   Latin America & Caribbean  2019.0     11.000000\n",
      "22   Latin America & Caribbean  2020.0     32.200000\n",
      "23   Latin America & Caribbean  2021.0     28.500000\n",
      "24   Latin America & Caribbean  2022.0     56.250000\n",
      "25   Latin America & Caribbean  2023.0     22.375000\n",
      "26  Middle East & North Africa  2015.0     51.000000\n",
      "27  Middle East & North Africa  2016.0     54.000000\n",
      "28  Middle East & North Africa  2017.0     32.000000\n",
      "29  Middle East & North Africa  2018.0     45.000000\n",
      "30  Middle East & North Africa  2019.0     46.000000\n",
      "31  Middle East & North Africa  2020.0     31.500000\n",
      "32  Middle East & North Africa  2021.0     30.500000\n",
      "33  Middle East & North Africa  2022.0     14.000000\n",
      "34  Middle East & North Africa  2023.0     33.666667\n",
      "35               North America  2015.0     33.000000\n",
      "36               North America  2016.0     32.000000\n",
      "37               North America  2019.0     32.500000\n",
      "38               North America  2020.0     27.000000\n",
      "39               North America  2021.0     28.333333\n",
      "40               North America  2022.0     32.000000\n",
      "41                  South Asia  2015.0     43.000000\n",
      "42                  South Asia  2016.0     36.250000\n",
      "43                  South Asia  2017.0     10.000000\n",
      "44                  South Asia  2018.0     37.000000\n",
      "45                  South Asia  2020.0     24.500000\n",
      "46                  South Asia  2021.0     22.666667\n",
      "47                  South Asia  2022.0     59.000000\n"
     ]
    }
   ],
   "source": [
    "# Compute the average delay per region for each year\n",
    "region_avg_delay = filtered_data.groupby(['Region', 'Year'])['Delay (days)'].mean().reset_index()\n",
    "\n",
    "# Display the average delay by region for each year\n",
    "print(region_avg_delay)"
   ]
  },
  {
   "cell_type": "code",
   "execution_count": 59,
   "id": "2dd238b8",
   "metadata": {},
   "outputs": [
    {
     "name": "stdout",
     "output_type": "stream",
     "text": [
      "Region with most improvement: Middle East & North Africa\n",
      "Improvement: 17.333333333333336 days\n"
     ]
    }
   ],
   "source": [
    "# Calculate the difference in average delay between the first and last year for each region\n",
    "region_improvement = region_avg_delay.groupby('region').agg(\n",
    "    start_delay=('Delay (days)', 'first'),\n",
    "    end_delay=('Delay (days)', 'last')\n",
    ").reset_index()\n",
    "\n",
    "region_improvement['improvement'] = region_improvement['start_delay'] - region_improvement['end_delay']\n",
    "\n",
    "# the region with the most improvement\n",
    "most_improved_region = region_improvement.loc[region_improvement['improvement'].idxmax()]\n",
    "\n",
    "print(f\"Region with most improvement: {most_improved_region['region']}\")\n",
    "print(f\"Improvement: {most_improved_region['improvement']} days\")\n"
   ]
  },
  {
   "cell_type": "code",
   "execution_count": 100,
   "id": "8d4b4948",
   "metadata": {},
   "outputs": [],
   "source": [
    "# 4)Outlier Detection: Identify any countries with delays that are statistical outliers\n",
    "\n",
    "from scipy.stats import zscore\n",
    "\n",
    "# Calculate Z-scores for 'Delay (days)'\n",
    "filtered_data['z_score']=zscore(filtered_data['Delay (days)'])"
   ]
  },
  {
   "cell_type": "code",
   "execution_count": 126,
   "id": "3737fe21",
   "metadata": {},
   "outputs": [],
   "source": [
    "# Identify countries with Z-scores, I had to use 1.8 for detecting outliers \n",
    "#A lower threshold like 1.8 has a balance between being too lenient (±3) and too strict (±1).\n",
    "\n",
    "outliers_zscore=filtered_data[filtered_data['z_score'].abs()>1.8]\n"
   ]
  },
  {
   "cell_type": "code",
   "execution_count": 127,
   "id": "1eb642a8",
   "metadata": {},
   "outputs": [
    {
     "name": "stdout",
     "output_type": "stream",
     "text": [
      "    ISO3 Code    Year  Delay (days)   z_score\n",
      "293       ARG  2018.0           0.0 -1.838781\n",
      "390       MEX  2017.0           0.0 -1.838781\n"
     ]
    }
   ],
   "source": [
    "# Display the outliers\n",
    "print(outliers_zscore[['ISO3 Code', 'Year', 'Delay (days)', 'z_score']])\n"
   ]
  },
  {
   "cell_type": "code",
   "execution_count": 64,
   "id": "a4f975e9",
   "metadata": {},
   "outputs": [
    {
     "name": "stdout",
     "output_type": "stream",
     "text": [
      "Average_Delay_By_Country.csv exported.\n"
     ]
    }
   ],
   "source": [
    "#Export\n",
    "avg_delay_per_year.to_csv('Average_Delay_By_Country.csv', index=False)\n",
    "region_avg_delay.to_csv('Regional_Averages.csv', index=False)\n",
    "outliers_zscore.to_csv('Outliers.csv', index=False)"
   ]
  }
 ],
 "metadata": {
  "kernelspec": {
   "display_name": "Python 3 (ipykernel)",
   "language": "python",
   "name": "python3"
  },
  "language_info": {
   "codemirror_mode": {
    "name": "ipython",
    "version": 3
   },
   "file_extension": ".py",
   "mimetype": "text/x-python",
   "name": "python",
   "nbconvert_exporter": "python",
   "pygments_lexer": "ipython3",
   "version": "3.9.7"
  }
 },
 "nbformat": 4,
 "nbformat_minor": 5
}
